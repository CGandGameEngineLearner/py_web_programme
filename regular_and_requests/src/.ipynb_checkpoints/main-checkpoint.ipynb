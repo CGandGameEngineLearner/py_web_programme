{
 "cells": [
  {
   "cell_type": "markdown",
   "source": [
    "【实验4-1】正则表达式\n",
    "导入正则re库，并输入代码，输出结果，并解释前三行代码的意义。运行结果截图"
   ],
   "metadata": {
    "collapsed": false
   },
   "id": "71646c676fd2d912"
  },
  {
   "cell_type": "code",
   "execution_count": 6,
   "outputs": [
    {
     "name": "stdout",
     "output_type": "stream",
     "text": [
      "None\n"
     ]
    }
   ],
   "source": [
    "import re\n",
    "content = 'Hello 123 4567 World_This is a Great Wall'\n",
    "result=re.match('^Hello\\s\\d\\d\\d\\s\\d{4}\\s\\w{10}\\s.*Wal1$', content)\n",
    "print(result)"
   ],
   "metadata": {
    "collapsed": false,
    "ExecuteTime": {
     "end_time": "2024-05-01T12:55:57.449166900Z",
     "start_time": "2024-05-01T12:55:57.429795300Z"
    }
   },
   "id": "de62eb3fb5fe565a"
  },
  {
   "cell_type": "code",
   "execution_count": null,
   "outputs": [],
   "source": [],
   "metadata": {
    "collapsed": false
   },
   "id": "ceb7ef15869c7e43"
  },
  {
   "cell_type": "markdown",
   "source": [],
   "metadata": {
    "collapsed": false
   },
   "id": "9e72a80fc8230d5c"
  }
 ],
 "metadata": {
  "kernelspec": {
   "display_name": "Python 3",
   "language": "python",
   "name": "python3"
  },
  "language_info": {
   "codemirror_mode": {
    "name": "ipython",
    "version": 2
   },
   "file_extension": ".py",
   "mimetype": "text/x-python",
   "name": "python",
   "nbconvert_exporter": "python",
   "pygments_lexer": "ipython2",
   "version": "2.7.6"
  }
 },
 "nbformat": 4,
 "nbformat_minor": 5
}
