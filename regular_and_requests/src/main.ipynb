{
 "cells": [
  {
   "cell_type": "markdown",
   "id": "71646c676fd2d912",
   "metadata": {
    "collapsed": false
   },
   "source": [
    "【实验4-1】正则表达式  \n",
    "导入正则re库，并输入代码，输出结果，并解释前三行代码的意义。运行结果截图"
   ]
  },
  {
   "cell_type": "code",
   "execution_count": 7,
   "id": "de62eb3fb5fe565a",
   "metadata": {
    "collapsed": false,
    "ExecuteTime": {
     "end_time": "2024-05-01T13:00:01.840333200Z",
     "start_time": "2024-05-01T13:00:01.835841900Z"
    }
   },
   "outputs": [
    {
     "name": "stdout",
     "output_type": "stream",
     "text": [
      "<re.Match object; span=(0, 41), match='Hello 123 4567 World_This is a Great Wall'>\n"
     ]
    }
   ],
   "source": [
    "import re\n",
    "content = 'Hello 123 4567 World_This is a Great Wall'\n",
    "result=re.match('^Hello\\s\\d\\d\\d\\s\\d{4}\\s\\w{10}\\s.*Wall$', content)\n",
    "print(result)"
   ]
  },
  {
   "cell_type": "markdown",
   "source": [
    "【实验4-2】requests库\n",
    "\n",
    "(1)requests 库的六个主要方法是：\n",
    "\n",
    "    requests.get(url, params=None, **kwargs)：发送 GET 请求。\n",
    "    \n",
    "    requests.post(url, data=None, json=None, **kwargs)：发送 POST 请求。\n",
    "    \n",
    "    requests.put(url, data=None, **kwargs)：发送 PUT 请求。\n",
    "    \n",
    "    requests.delete(url, **kwargs)：发送 DELETE 请求。\n",
    "    \n",
    "    requests.head(url, **kwargs)：发送 HEAD 请求。\n",
    "    \n",
    "    requests.options(url, **kwargs)：发送 OPTIONS 请求。\n",
    "    \n",
    "(2)浏览器加载百度首页的过程大致如下：\n",
    "\n",
    "    浏览器向 DNS 服务器请求解析域名 www.baidu.com 的 IP 地址。\n",
    "    \n",
    "    浏览器向获取到的 IP 地址发送 HTTP 请求，请求百度首页的 HTML 文件。\n",
    "    \n",
    "    服务器接收到请求后，返回百度首页的 HTML 文件。\n",
    "    \n",
    "    浏览器接收到响应后，开始解析 HTML 文件，并发送额外的请求获取页面上的其他资源（例如 CSS、JavaScript、图片等）。\n",
    "    \n",
    "    浏览器根据接收到的资源渲染页面，呈现给用户。\n",
    "(3)Fiddler 的工作原理是:  \n",
    "\n",
    "    通过拦截计算机与服务器之间的通信流量来进行网络数据的调试和分析。它作为一个代理服务器，中间插入计算机和服务器之间的通信链路，可以捕获、查看、修改甚至篡改这些数据流量。 Fiddler 可以解密 HTTPS 流量，提供详细的请求和响应信息，以及方便的数据过滤、查找和修改功能，从而帮助开发者进行网络调试和性能优化。"
   ],
   "metadata": {
    "collapsed": false
   },
   "id": "d697f5926fce95d3"
  },
  {
   "cell_type": "markdown",
   "id": "9e72a80fc8230d5c",
   "metadata": {
    "collapsed": false
   },
   "source": []
  }
 ],
 "metadata": {
  "kernelspec": {
   "display_name": "Python 3 (ipykernel)",
   "language": "python",
   "name": "python3"
  },
  "language_info": {
   "codemirror_mode": {
    "name": "ipython",
    "version": 3
   },
   "file_extension": ".py",
   "mimetype": "text/x-python",
   "name": "python",
   "nbconvert_exporter": "python",
   "pygments_lexer": "ipython3",
   "version": "3.8.10"
  }
 },
 "nbformat": 4,
 "nbformat_minor": 5
}
